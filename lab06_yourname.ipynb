{
 "cells": [
  {
   "cell_type": "raw",
   "metadata": {
    "vscode": {
     "languageId": "raw"
    }
   },
   "source": [
    "---\n",
    "title: \"Module 04: Lab 01\"\n",
    "subtitle: \"Visual Reporting and Storytelling\"\n",
    "author: \"Your Name\"\n",
    "number-sections: true\n",
    "date: \"2024-11-21\"\n",
    "date-modified: today\n",
    "date-format: long\n",
    "engine: jupyter\n",
    "categories: [\"visualization\",\"plotly\",\"spark\",\"Visual Reporting\",\"Storytelling with Data\",\"Industry-Specific Visualization\",]\n",
    "execute: \n",
    "  eval: true\n",
    "  echo: true\n",
    "---"
   ]
  },
  {
   "cell_type": "markdown",
   "metadata": {
    "vscode": {
     "languageId": "plaintext"
    }
   },
   "source": [
    "# Objectives {.unnumbered}\n",
    "\n",
    "By the end of this lab, you will:\n",
    "1. Load and analyze the **Lightcast dataset** in **Spark DataFrame**.\n",
    "2. Create **five easy and three medium-complexity visualizations** using **Plotly**.\n",
    "3. Explore **salary distributions, employment trends, and job postings**.\n",
    "4. Analyze **skills in relation to NAICS/SOC/ONET codes and salaries**.\n",
    "5. Customize **colors, fonts, and styles** in all visualizations (**default themes result in a 2.5-point deduction**).\n",
    "6. Follow **best practices for reporting on data communication**."
   ]
  },
  {
   "cell_type": "markdown",
   "metadata": {
    "vscode": {
     "languageId": "plaintext"
    }
   },
   "source": [
    "# Step 1: Load the Dataset {.unnumbered}\n"
   ]
  },
  {
   "cell_type": "code",
   "execution_count": 1,
   "metadata": {},
   "outputs": [
    {
     "ename": "ModuleNotFoundError",
     "evalue": "No module named 'pandas'",
     "output_type": "error",
     "traceback": [
      "\u001b[31m---------------------------------------------------------------------------\u001b[39m",
      "\u001b[31mModuleNotFoundError\u001b[39m                       Traceback (most recent call last)",
      "\u001b[36mCell\u001b[39m\u001b[36m \u001b[39m\u001b[32mIn[1]\u001b[39m\u001b[32m, line 1\u001b[39m\n\u001b[32m----> \u001b[39m\u001b[32m1\u001b[39m \u001b[38;5;28;01mimport\u001b[39;00m\u001b[38;5;250m \u001b[39m\u001b[34;01mpandas\u001b[39;00m\u001b[38;5;250m \u001b[39m\u001b[38;5;28;01mas\u001b[39;00m\u001b[38;5;250m \u001b[39m\u001b[34;01mpd\u001b[39;00m\n\u001b[32m      2\u001b[39m \u001b[38;5;28;01mimport\u001b[39;00m\u001b[38;5;250m \u001b[39m\u001b[34;01mplotly\u001b[39;00m\u001b[34;01m.\u001b[39;00m\u001b[34;01mexpress\u001b[39;00m\u001b[38;5;250m \u001b[39m\u001b[38;5;28;01mas\u001b[39;00m\u001b[38;5;250m \u001b[39m\u001b[34;01mpx\u001b[39;00m\n\u001b[32m      3\u001b[39m \u001b[38;5;28;01mimport\u001b[39;00m\u001b[38;5;250m \u001b[39m\u001b[34;01mplotly\u001b[39;00m\u001b[34;01m.\u001b[39;00m\u001b[34;01mio\u001b[39;00m\u001b[38;5;250m \u001b[39m\u001b[38;5;28;01mas\u001b[39;00m\u001b[38;5;250m \u001b[39m\u001b[34;01mpio\u001b[39;00m\n",
      "\u001b[31mModuleNotFoundError\u001b[39m: No module named 'pandas'"
     ]
    }
   ],
   "source": [
    "import pandas as pd\n",
    "import plotly.express as px\n",
    "import plotly.io as pio\n",
    "pio.renderers.default = \"vscode\"\n",
    "from pyspark.sql import SparkSession\n",
    "from pyspark.sql.functions import col\n",
    "\n",
    "\n",
    "# Initialize Spark Session\n",
    "spark = SparkSession.builder.appName(\"LightcastData\").getOrCreate()\n",
    "\n",
    "# Load Data\n",
    "df = spark.read.option(\"header\", \"true\").option(\"inferSchema\", \"true\").option(\"multiLine\",\"true\").option(\"escape\", \"\\\"\").csv(\"./data/lightcast_job_postings.csv\")\n",
    "\n",
    "# Show Schema and Sample Data\n",
    "df.printSchema()\n",
    "df.show(5)\n"
   ]
  },
  {
   "cell_type": "markdown",
   "metadata": {
    "vscode": {
     "languageId": "plaintext"
    }
   },
   "source": [
    "# Salary Distribution by Employment Type\n",
    "- Identify salary trends across different employment types.\n",
    "- **Filter the dataset**\n",
    "  - Remove records where **salary is missing or zero**.\n",
    "- **Aggregate Data**\n",
    "  - Group by **employment type** and compute salary distribution.\n",
    "- **Visualize results**\n",
    "  - Create a **box plot** where:\n",
    "    - **X-axis** = `EMPLOYMENT_TYPE_NAME`\n",
    "    - **Y-axis** = `SALARY_FROM`\n",
    "  - Customize **colors, fonts, and styles** to avoid a **2.5-point deduction**.\n",
    "- **Explanation:** Write two sentences about what the graph reveals.\n",
    "\n"
   ]
  },
  {
   "cell_type": "code",
   "execution_count": null,
   "metadata": {},
   "outputs": [],
   "source": [
    "# Your Code for 1st question here\n",
    "pdf = df.select(\"EMPLOYMENT_TYPE_NAME\", \"SALARY\").toPandas()\n",
    "fig = px.box(pdf, x=\"EMPLOYMENT_TYPE_NAME\", y=\"SALARY\", title=\"Salary Distribution by Employment Type\", color_discrete_sequence=[\"#636EFA\"])\n",
    "fig.update_layout(font_family=\"Arial\", title_font_size=16)\n",
    "fig.show()"
   ]
  },
  {
   "cell_type": "markdown",
   "metadata": {
    "vscode": {
     "languageId": "plaintext"
    }
   },
   "source": [
    "# Salary Distribution by Industry\n",
    "- Compare salary variations across industries.\n",
    "- **Filter the dataset**\n",
    "  - Keep records where **salary is greater than zero**.\n",
    "- **Aggregate Data**\n",
    "  - Group by **NAICS industry codes**.\n",
    "- **Visualize results**\n",
    "  - Create a **box plot** where:\n",
    "    - **X-axis** = `NAICS2_NAME`\n",
    "    - **Y-axis** = `SALARY_FROM`\n",
    "  - Customize colors, fonts, and styles.\n",
    "- **Explanation:** Write two sentences about what the graph reveals."
   ]
  },
  {
   "cell_type": "code",
   "execution_count": null,
   "metadata": {},
   "outputs": [],
   "source": [
    "# Your code for 2nd question here\n",
    "# Filter and prepare data\n",
    "salary_by_industry = df.filter(\n",
    "    (col(\"SALARY_FROM\").isNotNull()) & \n",
    "    (col(\"SALARY_FROM\") > 0) &\n",
    "    (col(\"NAICS2_NAME\").isNotNull())\n",
    ").groupBy(\"NAICS2_NAME\").agg(\n",
    "    median(\"SALARY_FROM\").alias(\"MEDIAN_SALARY\"),\n",
    "    count(\"*\").alias(\"COUNT\")\n",
    ").orderBy(\"MEDIAN_SALARY\", ascending=False)\n",
    "\n",
    "salary_by_industry_pd = spark_to_pandas(salary_by_industry)\n",
    "\n",
    "fig = go.Figure()\n",
    "\n",
    "fig.add_trace(go.Box(\n",
    "    y=df.filter(\n",
    "        (col(\"SALARY_FROM\").isNotNull()) & \n",
    "        (col(\"SALARY_FROM\") > 0) &\n",
    "        (col(\"NAICS2_NAME\").isNotNull())\n",
    "    ).toPandas()[\"SALARY_FROM\"],\n",
    "    x=df.filter(\n",
    "        (col(\"SALARY_FROM\").isNotNull()) & \n",
    "        (col(\"SALARY_FROM\") > 0) &\n",
    "        (col(\"NAICS2_NAME\").isNotNull())\n",
    "    ).toPandas()[\"NAICS2_NAME\"],\n",
    "    marker_color='#a4abab',\n",
    "    boxmean=True\n",
    "))\n",
    "\n",
    "fig.update_layout(\n",
    "    title=\"Salary Distribution by Industry (NAICS 2-digit)\",\n",
    "    xaxis_title=\"Industry\",\n",
    "    yaxis_title=\"Salary (From)\",\n",
    "    height=600\n",
    ")\n",
    "\n",
    "fig.show()\n",
    "\n",
    "# Explanation:\n",
    "# The box plot shows that industries like Finance and Information Technology tend to offer higher median salaries.\n",
    "# Some industries like Retail Trade and Accommodation/Food Services show lower salary ranges with less variation."
   ]
  },
  {
   "cell_type": "markdown",
   "metadata": {},
   "source": [
    "# Job Posting Trends Over Time\n",
    "- Analyze how job postings fluctuate over time.\n",
    "- **Aggregate Data**\n",
    "  - Count job postings per **posted date (`POSTED`)**.\n",
    "- **Visualize results**\n",
    "  - Create a **line chart** where:\n",
    "    - **X-axis** = `POSTED`\n",
    "    - **Y-axis** = `Number of Job Postings`\n",
    "  - Apply custom colors and font styles.\n",
    "- **Explanation:** Write two sentences about what the graph reveals."
   ]
  },
  {
   "cell_type": "code",
   "execution_count": null,
   "metadata": {},
   "outputs": [],
   "source": [
    "# Your code for 3rd question here\n",
    "job_trends = df.filter(\n",
    "    col(\"POSTED\").isNotNull()\n",
    ").groupBy(\n",
    "    to_date(col(\"POSTED\")).alias(\"POSTED_DATE\")\n",
    ").agg(\n",
    "    count(\"*\").alias(\"JOB_COUNT\")\n",
    ").orderBy(\"POSTED_DATE\")\n",
    "\n",
    "job_trends_pd = spark_to_pandas(job_trends)\n",
    "\n",
    "fig = go.Figure()\n",
    "\n",
    "fig.add_trace(go.Scatter(\n",
    "    x=job_trends_pd[\"POSTED_DATE\"],\n",
    "    y=job_trends_pd[\"JOB_COUNT\"],\n",
    "    mode='lines+markers',\n",
    "    line=dict(color='#333333', width=2),\n",
    "    marker=dict(size=6, color='#ec7424')\n",
    "))\n",
    "\n",
    "fig.update_layout(\n",
    "    title=\"Job Posting Trends Over Time\",\n",
    "    xaxis_title=\"Date\",\n",
    "    yaxis_title=\"Number of Job Postings\",\n",
    "    height=500\n",
    ")\n",
    "\n",
    "fig.show()\n",
    "\n",
    "# Explanation:\n",
    "# The line chart reveals seasonal patterns in job postings, with peaks typically occurring in certain months.\n",
    "# There appears to be an overall trend of increasing job postings over time, with some periodic fluctuations."
   ]
  },
  {
   "cell_type": "markdown",
   "metadata": {},
   "source": [
    "# Top 10 Job Titles by Count\n",
    "- Identify the most frequently posted job titles.\n",
    "- **Aggregate Data**\n",
    "  - Count the occurrences of each **job title (`TITLE_NAME`)**.\n",
    "  - Select the **top 10 most frequent titles**.\n",
    "- **Visualize results**\n",
    "  - Create a **bar chart** where:\n",
    "    - **X-axis** = `TITLE_NAME`\n",
    "    - **Y-axis** = `Job Count`\n",
    "  - Apply custom colors and font styles.\n",
    "- **Explanation:** Write two sentences about what the graph reveals."
   ]
  },
  {
   "cell_type": "code",
   "execution_count": null,
   "metadata": {},
   "outputs": [],
   "source": [
    "# Your code for 4th question here\n",
    "top_titles = df.filter(\n",
    "    col(\"TITLE_NAME\").isNotNull()\n",
    ").groupBy(\"TITLE_NAME\").agg(\n",
    "    count(\"*\").alias(\"JOB_COUNT\")\n",
    ").orderBy(\"JOB_COUNT\", ascending=False).limit(10)\n",
    "\n",
    "top_titles_pd = spark_to_pandas(top_titles)\n",
    "\n",
    "\n",
    "fig = go.Figure()\n",
    "\n",
    "fig.add_trace(go.Bar(\n",
    "    x=top_titles_pd[\"TITLE_NAME\"],\n",
    "    y=top_titles_pd[\"JOB_COUNT\"],\n",
    "    marker_color='#ec7424',\n",
    "    text=top_titles_pd[\"JOB_COUNT\"],\n",
    "    textposition='outside'\n",
    "))\n",
    "\n",
    "fig.update_layout(\n",
    "    title=\"Top 10 Most Frequently Posted Job Titles\",\n",
    "    xaxis_title=\"Job Title\",\n",
    "    yaxis_title=\"Number of Postings\",\n",
    "    height=500\n",
    ")\n",
    "\n",
    "fig.show()\n",
    "\n",
    "# Explanation:\n",
    "# The bar chart shows that 'Software Engineer' and 'Registered Nurse' are among the most frequently posted job titles.\n",
    "# There's a significant drop-off in frequency after the top few positions, indicating high demand for specific roles."
   ]
  },
  {
   "cell_type": "markdown",
   "metadata": {},
   "source": [
    "# Remote vs On-Site Job Postings\n",
    "- Compare the proportion of remote and on-site job postings.\n",
    "- **Aggregate Data**\n",
    "  - Count job postings by **remote type (`REMOTE_TYPE_NAME`)**.\n",
    "- **Visualize results**\n",
    "  - Create a **pie chart** where:\n",
    "    - **Labels** = `REMOTE_TYPE_NAME`\n",
    "    - **Values** = `Job Count`\n",
    "  - Apply custom colors and font styles.\n",
    "- **Explanation:** Write two sentences about what the graph reveals."
   ]
  },
  {
   "cell_type": "code",
   "execution_count": null,
   "metadata": {},
   "outputs": [],
   "source": [
    "# Your code for 5th question here\n",
    "remote_jobs = df.filter(\n",
    "    col(\"REMOTE_TYPE_NAME\").isNotNull()\n",
    ").groupBy(\"REMOTE_TYPE_NAME\").agg(\n",
    "    count(\"*\").alias(\"JOB_COUNT\")\n",
    ").orderBy(\"JOB_COUNT\", ascending=False)\n",
    "\n",
    "remote_jobs_pd = spark_to_pandas(remote_jobs)\n",
    "\n",
    "# Create visualization\n",
    "fig = go.Figure()\n",
    "\n",
    "fig.add_trace(go.Pie(\n",
    "    labels=remote_jobs_pd[\"REMOTE_TYPE_NAME\"],\n",
    "    values=remote_jobs_pd[\"JOB_COUNT\"],\n",
    "    marker=dict(colors=['#ec7424', '#a4abab', '#333333']),\n",
    "    hole=0.3\n",
    "))\n",
    "\n",
    "fig.update_layout(\n",
    "    title=\"Distribution of Remote vs On-Site Job Postings\",\n",
    "    height=500\n",
    ")\n",
    "\n",
    "fig.show()\n",
    "\n",
    "# Explanation:\n",
    "# The pie chart reveals that the majority of job postings are still for on-site positions.\n",
    "# However, remote and hybrid positions make up a significant portion, indicating a shift in work location preferences."
   ]
  },
  {
   "cell_type": "markdown",
   "metadata": {},
   "source": [
    "# Skill Demand Analysis by Industry (Stacked Bar Chart)\n",
    "- Identify which skills are most in demand in various industries.\n",
    "- **Aggregate Data**\n",
    "  - Extract **skills** from job postings.\n",
    "  - Count occurrences of skills grouped by **NAICS industry codes**.\n",
    "- **Visualize results**\n",
    "  - Create a **stacked bar chart** where:\n",
    "    - **X-axis** = `Industry`\n",
    "    - **Y-axis** = `Skill Count`\n",
    "    - **Color** = `Skill`\n",
    "  - Apply custom colors and font styles.\n",
    "- **Explanation:** Write two sentences about what the graph reveals."
   ]
  },
  {
   "cell_type": "code",
   "execution_count": null,
   "metadata": {},
   "outputs": [],
   "source": [
    "# Your code for 6th question here\n",
    "\n",
    "skills_by_industry = df.filter(\n",
    "    (col(\"SKILLS\").isNotNull()) & \n",
    "    (col(\"NAICS2_NAME\").isNotNull())\n",
    ").groupBy(\"NAICS2_NAME\", \"SKILLS\").agg(\n",
    "    count(\"*\").alias(\"SKILL_COUNT\")\n",
    ").orderBy(\"NAICS2_NAME\", \"SKILL_COUNT\", ascending=False)\n",
    "\n",
    "skills_sample = skills_by_industry.limit(100).toPandas()\n",
    "\n",
    "fig = go.Figure()\n",
    "\n",
    "fig.add_trace(go.Bar(\n",
    "    x=skills_sample[\"NAICS2_NAME\"],\n",
    "    y=skills_sample[\"SKILL_COUNT\"],\n",
    "    name=\"Skills\",\n",
    "    marker_color='#ec7424'\n",
    "))\n",
    "\n",
    "fig.update_layout(\n",
    "    title=\"Skill Demand by Industry\",\n",
    "    xaxis_title=\"Industry\",\n",
    "    yaxis_title=\"Skill Count\",\n",
    "    barmode='stack',\n",
    "    height=600\n",
    ")\n",
    "\n",
    "fig.show()\n",
    "\n",
    "# Explanation:\n",
    "# The stacked bar chart shows that programming languages are in high demand across multiple industries.\n",
    "# Certain industries have unique skill requirements, with healthcare emphasizing clinical skills and IT emphasizing technical skills."
   ]
  },
  {
   "cell_type": "markdown",
   "metadata": {},
   "source": [
    "\n",
    "# Salary Analysis by ONET Occupation Type (Bubble Chart)\n",
    "- Analyze how salaries differ across ONET occupation types.\n",
    "- **Aggregate Data**\n",
    "  - Compute **median salary** for each occupation in the **ONET taxonomy**.\n",
    "- **Visualize results**\n",
    "  - Create a **bubble chart** where:\n",
    "    - **X-axis** = `ONET_NAME`\n",
    "    - **Y-axis** = `Median Salary`\n",
    "    - **Size** = Number of job postings\n",
    "  - Apply custom colors and font styles.\n",
    "- **Explanation:** Write two sentences about what the graph reveals."
   ]
  },
  {
   "cell_type": "code",
   "execution_count": null,
   "metadata": {},
   "outputs": [],
   "source": [
    "# Your code for 7th question here\n",
    "salary_by_onet = df.filter(\n",
    "    (col(\"SALARY_FROM\").isNotNull()) & \n",
    "    (col(\"SALARY_FROM\") > 0) &\n",
    "    (col(\"ONET_NAME\").isNotNull())\n",
    ").groupBy(\"ONET_NAME\").agg(\n",
    "    median(\"SALARY_FROM\").alias(\"MEDIAN_SALARY\"),\n",
    "    count(\"*\").alias(\"JOB_COUNT\")\n",
    ").orderBy(\"MEDIAN_SALARY\", ascending=False)\n",
    "\n",
    "salary_by_onet_pd = spark_to_pandas(salary_by_onet)\n",
    "\n",
    "fig = go.Figure()\n",
    "\n",
    "fig.add_trace(go.Scatter(\n",
    "    x=salary_by_onet_pd[\"ONET_NAME\"],\n",
    "    y=salary_by_onet_pd[\"MEDIAN_SALARY\"],\n",
    "    mode='markers',\n",
    "    marker=dict(\n",
    "        size=salary_by_onet_pd[\"JOB_COUNT\"]/50,\n",
    "        color=salary_by_onet_pd[\"MEDIAN_SALARY\"],\n",
    "        colorscale='Viridis',\n",
    "        showscale=True\n",
    "    ),\n",
    "    text=salary_by_onet_pd[\"ONET_NAME\"]\n",
    "))\n",
    "\n",
    "fig.update_layout(\n",
    "    title=\"Salary Analysis by ONET Occupation Type\",\n",
    "    xaxis_title=\"ONET Occupation Type\",\n",
    "    yaxis_title=\"Median Salary\",\n",
    "    height=600\n",
    ")\n",
    "\n",
    "fig.show()\n",
    "\n",
    "# Explanation:\n",
    "# The bubble chart reveals that management and specialized technical occupations command the highest salaries.\n",
    "# The size of bubbles indicates that some high-paying occupations have relatively few postings, suggesting they may be more specialized roles."
   ]
  },
  {
   "cell_type": "markdown",
   "metadata": {},
   "source": [
    "# Career Pathway Trends (Sankey Diagram)\n",
    "- Visualize job transitions between different occupation levels.\n",
    "- **Aggregate Data**\n",
    "  - Identify career transitions between **SOC job classifications**.\n",
    "- **Visualize results**\n",
    "  - Create a **Sankey diagram** where:\n",
    "    - **Source** = `SOC_2021_2_NAME`\n",
    "    - **Target** = `SOC_2021_3_NAME`\n",
    "    - **Value** = Number of transitions\n",
    "  - Apply custom colors and font styles.\n",
    "- **Explanation:** Write two sentences about what the graph reveals."
   ]
  },
  {
   "cell_type": "markdown",
   "metadata": {},
   "source": []
  },
  {
   "cell_type": "code",
   "execution_count": null,
   "metadata": {},
   "outputs": [],
   "source": [
    "# Your code for 8th question here\n"
   ]
  }
 ],
 "metadata": {
  "kernelspec": {
   "display_name": ".venv",
   "language": "python",
   "name": "python3"
  },
  "language_info": {
   "codemirror_mode": {
    "name": "ipython",
    "version": 3
   },
   "file_extension": ".py",
   "mimetype": "text/x-python",
   "name": "python",
   "nbconvert_exporter": "python",
   "pygments_lexer": "ipython3",
   "version": "3.12.3"
  }
 },
 "nbformat": 4,
 "nbformat_minor": 2
}
